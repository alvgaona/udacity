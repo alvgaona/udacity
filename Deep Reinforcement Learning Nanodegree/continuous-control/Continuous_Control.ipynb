{
 "cells": [
  {
   "cell_type": "markdown",
   "source": [
    "# Continuous Control"
   ],
   "metadata": {
    "collapsed": false
   }
  },
  {
   "cell_type": "code",
   "execution_count": 1,
   "outputs": [],
   "source": [
    "import numpy as np\n",
    "import matplotlib.pyplot as plt\n",
    "from unityagents import UnityEnvironment"
   ],
   "metadata": {
    "collapsed": false,
    "pycharm": {
     "name": "#%%\n"
    }
   }
  },
  {
   "cell_type": "markdown",
   "metadata": {},
   "source": [
    "## Start the environment!\n",
    "**_Before running the code cell below_**, change the `file_name` parameter to match the location of the Unity environment that you downloaded.\n",
    "\n",
    "- **Mac**: `\"path/to/Reacher.app\"`\n",
    "- **Windows** (x86): `\"path/to/Reacher_Windows_x86/Reacher.exe\"`\n",
    "- **Windows** (x86_64): `\"path/to/Reacher_Windows_x86_64/Reacher.exe\"`\n",
    "- **Linux** (x86): `\"path/to/Reacher_Linux/Reacher.x86\"`\n",
    "- **Linux** (x86_64): `\"path/to/Reacher_Linux/Reacher.x86_64\"`\n",
    "- **Linux** (x86, headless): `\"path/to/Reacher_Linux_NoVis/Reacher.x86\"`\n",
    "- **Linux** (x86_64, headless): `\"path/to/Reacher_Linux_NoVis/Reacher.x86_64\"`\n",
    "\n",
    "For instance, if you are using a Mac, then you downloaded `Reacher.app`.  If this file is in the same folder as the notebook, then the line below should appear as follows:\n",
    "```\n",
    "env = UnityEnvironment(file_name=\"Reacher.app\")\n",
    "```"
   ]
  },
  {
   "cell_type": "code",
   "execution_count": 2,
   "metadata": {},
   "outputs": [
    {
     "name": "stderr",
     "output_type": "stream",
     "text": [
      "INFO:unityagents:\n",
      "'Academy' started successfully!\n",
      "Unity Academy name: Academy\n",
      "        Number of Brains: 1\n",
      "        Number of External Brains : 1\n",
      "        Lesson number : 0\n",
      "        Reset Parameters :\n",
      "\t\tgoal_speed -> 1.0\n",
      "\t\tgoal_size -> 5.0\n",
      "Unity brain name: ReacherBrain\n",
      "        Number of Visual Observations (per agent): 0\n",
      "        Vector Observation space type: continuous\n",
      "        Vector Observation space size (per agent): 33\n",
      "        Number of stacked Vector Observation: 1\n",
      "        Vector Action space type: continuous\n",
      "        Vector Action space size (per agent): 4\n",
      "        Vector Action descriptions: , , , \n"
     ]
    }
   ],
   "source": [
    "env = UnityEnvironment(file_name='./Reacher_Linux/Reacher.x86_64')"
   ]
  },
  {
   "cell_type": "markdown",
   "metadata": {},
   "source": [
    "Environments contain **_brains_** which are responsible for deciding the actions of their associated agents. Here we check for the first brain available, and set it as the default brain we will be controlling from Python."
   ]
  },
  {
   "cell_type": "code",
   "execution_count": 3,
   "metadata": {},
   "outputs": [],
   "source": [
    "# get the default brain\n",
    "brain_name = env.brain_names[0]\n",
    "brain = env.brains[brain_name]"
   ]
  },
  {
   "cell_type": "markdown",
   "metadata": {},
   "source": [
    "## Randomly Pick Actions\n",
    "\n",
    "In the next piece of code cell, controlling the agent and receiving feedback from the environment is shown.\n",
    "\n",
    "In the environment you started above, once the cell is executed, the agent will start interacting with the environment."
   ]
  },
  {
   "cell_type": "code",
   "execution_count": 4,
   "outputs": [],
   "source": [
    "class DizzyArm:\n",
    "    __MAX_TIMESTEPS = 2000\n",
    "\n",
    "    def __init__(self, env, num_episodes, train_mode=True):\n",
    "        \"\"\"\n",
    "        Initialize the dizzy agent.\n",
    "\n",
    "        Args:\n",
    "            env (UnityEnvironment): Environment to interact with.\n",
    "            num_episodes (int): Number of episodes to run.\n",
    "            train_mode (bool): Should be true if train mode is desired.\n",
    "        \"\"\"\n",
    "        env_info = env.reset(train_mode=train_mode)[brain_name]\n",
    "\n",
    "        self.env = env\n",
    "        self.train_mode = train_mode\n",
    "        self.num_episodes = num_episodes\n",
    "        self.action_size = brain.vector_action_space_size\n",
    "        self.num_agents = len(env_info.agents)\n",
    "        self.states = env_info.vector_observations\n",
    "\n",
    "    def start(self):\n",
    "        \"\"\"\n",
    "        Train/Test the dizzy agent.\n",
    "\n",
    "        Note:\n",
    "            This agent is called dizzy as it takes random actions to interact with the environment.\n",
    "            It does not learn from the environment as it does not use the states and rewards from it.\n",
    "            It just saves the reward and hopes it has a good one.\n",
    "\n",
    "            This is just for illustrative purposes.\n",
    "        \"\"\"\n",
    "        averaged_scores = []\n",
    "        for i in range(0, self.num_episodes):\n",
    "            _ = self.env.reset(train_mode=self.train_mode)[brain_name]\n",
    "            scores = np.zeros(self.num_agents)\n",
    "\n",
    "            for t in range(DizzyArm.__MAX_TIMESTEPS):\n",
    "                actions = np.random.randn(self.num_agents, self.action_size)\n",
    "                actions = np.clip(actions, -1, 1)\n",
    "                env_info = env.step(actions)[brain_name]\n",
    "                next_states = env_info.vector_observations\n",
    "                dones = env_info.local_done\n",
    "                scores += env_info.rewards\n",
    "                self.states = next_states\n",
    "\n",
    "                averaged_scores.append(np.mean(scores))\n",
    "\n",
    "                if np.any(dones):\n",
    "                    break\n",
    "\n",
    "            print(f'\\rEpisode {i}\\tScore: {np.mean(scores)}', end='')\n",
    "\n",
    "        print(f'\\rAverage score {np.mean(averaged_scores):.2f}', end='')\n",
    "\n",
    "        fig = plt.figure()\n",
    "        ax = fig.add_subplot(111)\n",
    "        plt.plot(np.arange(len(scores)), scores)\n",
    "        plt.plot(np.arange(len(scores)), [np.mean(scores)] * len(scores))\n",
    "        plt.ylabel('Score')\n",
    "        plt.xlabel('Episode #')\n",
    "        ax.legend(['Score', 'Average Score'])\n",
    "        plt.show()"
   ],
   "metadata": {
    "collapsed": false,
    "pycharm": {
     "name": "#%%\n"
    }
   }
  },
  {
   "cell_type": "code",
   "execution_count": 5,
   "outputs": [
    {
     "name": "stdout",
     "output_type": "stream",
     "text": [
      "Average score 0.070.132999997027218354"
     ]
    },
    {
     "data": {
      "text/plain": "<Figure size 432x288 with 1 Axes>",
      "image/png": "[encoded data removed]"
     },
     "metadata": {
      "needs_background": "light"
     },
     "output_type": "display_data"
    }
   ],
   "source": [
    "num_episodes = 100\n",
    "dizzy_arm = DizzyArm(env, num_episodes, train_mode=True)\n",
    "dizzy_arm.start()"
   ],
   "metadata": {
    "collapsed": false,
    "pycharm": {
     "name": "#%%\n"
    }
   }
  },
  {
   "cell_type": "markdown",
   "source": [
    "## Actor-Critic"
   ],
   "metadata": {
    "collapsed": false,
    "pycharm": {
     "name": "#%% md\n"
    }
   }
  },
  {
   "cell_type": "code",
   "execution_count": 5,
   "outputs": [],
   "source": [
    "import torch\n",
    "import torch.nn as nn\n",
    "device = torch.device('cuda:0' if torch.cuda.is_available() else 'cpu')"
   ],
   "metadata": {
    "collapsed": false,
    "pycharm": {
     "name": "#%%\n"
    }
   }
  },
  {
   "cell_type": "code",
   "execution_count": 6,
   "outputs": [],
   "source": [
    "class Actor(nn.Module):\n",
    "    def __init__(self, state_size, action_size, seed):\n",
    "\n",
    "        super(Actor, self).__init__()\n",
    "        self.seed = torch.manual_seed(seed)\n",
    "\n",
    "        self.model = nn.Sequential(\n",
    "            nn.BatchNorm1d(state_size),\n",
    "            nn.Linear(state_size, 128),\n",
    "            nn.ELU(),\n",
    "            nn.BatchNorm1d(128),\n",
    "            nn.Linear(128, 64),\n",
    "            nn.ELU(),\n",
    "            nn.BatchNorm1d(64),\n",
    "            nn.Linear(64, 32),\n",
    "            nn.ELU(),\n",
    "            nn.BatchNorm1d(32),\n",
    "            nn.Linear(32, action_size),\n",
    "            nn.Tanh(),\n",
    "        )\n",
    "\n",
    "    def forward(self, state):\n",
    "        return self.model(state)"
   ],
   "metadata": {
    "collapsed": false,
    "pycharm": {
     "name": "#%%\n"
    }
   }
  },
  {
   "cell_type": "code",
   "execution_count": 7,
   "outputs": [],
   "source": [
    "class Critic(nn.Module):\n",
    "    def __init__(self, state_size, action_size, seed):\n",
    "        super(Critic, self).__init__()\n",
    "        self.seed = torch.manual_seed(seed)\n",
    "\n",
    "        self.model_1 = nn.Sequential(\n",
    "            nn.BatchNorm1d(state_size),\n",
    "            nn.Linear(state_size, 128),\n",
    "            nn.ELU(),\n",
    "        )\n",
    "\n",
    "        self.model_2 = nn.Sequential(\n",
    "            nn.Linear(128 + action_size, 64),\n",
    "            nn.ELU(),\n",
    "            nn.Linear(64, 32),\n",
    "            nn.ELU(),\n",
    "            nn.Linear(32, 16),\n",
    "            nn.ELU(),\n",
    "            nn.Linear(16, 1),\n",
    "            nn.ELU(),\n",
    "        )\n",
    "\n",
    "    def forward(self, state, action):\n",
    "        x_state = self.model_1(state)\n",
    "\n",
    "        x = torch.cat((x_state, action.float()), dim=1)\n",
    "\n",
    "        return self.model_2(x)"
   ],
   "metadata": {
    "collapsed": false,
    "pycharm": {
     "name": "#%%\n"
    }
   }
  },
  {
   "cell_type": "code",
   "execution_count": 8,
   "outputs": [],
   "source": [
    "import random\n",
    "from collections import namedtuple, deque\n",
    "\n",
    "class ReplayBuffer:\n",
    "    def __init__(self, action_size, buffer_size, batch_size, seed):\n",
    "        \"\"\"\n",
    "        Initialize a replay buffer.\n",
    "\n",
    "        Note:\n",
    "            The data structure used to save the experiences is a queue of size `buffer_size`.\n",
    "            The queue is a queue of `namedtuples`.\n",
    "\n",
    "        Args:\n",
    "            action_size (int): Dimension of each action.\n",
    "            buffer_size (int): Maximum size of buffer.\n",
    "            batch_size (int): Size of each training batch.\n",
    "        \"\"\"\n",
    "        self.action_size = action_size\n",
    "        self.memory = deque(maxlen=buffer_size)\n",
    "        self.batch_size = batch_size\n",
    "        self.experience = namedtuple('Experience', field_names=['state', 'action', 'reward', 'next_state', 'done'])\n",
    "\n",
    "        random.seed(seed)\n",
    "\n",
    "    def add(self, state, action, reward, next_state, done):\n",
    "        \"\"\"\n",
    "        Add a new experience to memory.\n",
    "\n",
    "        Args:\n",
    "            state (numpy.array):\n",
    "            action (numpy.array):\n",
    "            reward (float):\n",
    "            next_state (numpy.array):\n",
    "            done (bool): A flag to indicate if episode is done.\n",
    "        \"\"\"\n",
    "        e = self.experience(state, action, reward, next_state, done)\n",
    "        self.memory.append(e)\n",
    "\n",
    "    def sample(self):\n",
    "        \"\"\"Randomly sample a batch of experiences from memory.\"\"\"\n",
    "        experiences = random.sample(self.memory, k=self.batch_size)\n",
    "\n",
    "        states = torch.from_numpy(np.vstack([e.state for e in experiences if e is not None])).float().to(device)\n",
    "        actions = torch.from_numpy(np.vstack([e.action for e in experiences if e is not None])).float().to(device)\n",
    "        rewards = torch.from_numpy(np.vstack([e.reward for e in experiences if e is not None])).float().to(device)\n",
    "        next_states = torch.from_numpy(np.vstack([e.next_state for e in experiences if e is not None])).float().to(device)\n",
    "        dones = torch.from_numpy(np.vstack([e.done for e in experiences if e is not None]).astype(np.uint8)).float().to(device)\n",
    "\n",
    "        return states, actions, rewards, next_states, dones\n",
    "\n",
    "    def __len__(self):\n",
    "        \"\"\"Return the current size of internal memory.\"\"\"\n",
    "        return len(self.memory)"
   ],
   "metadata": {
    "collapsed": false,
    "pycharm": {
     "name": "#%%\n"
    }
   }
  },
  {
   "cell_type": "code",
   "execution_count": 9,
   "outputs": [],
   "source": [
    "import torch.optim as optim\n",
    "\n",
    "device = torch.device(\"cuda:0\" if torch.cuda.is_available() else \"cpu\")\n",
    "\n",
    "class DDPG:\n",
    "    __BUFFER_SIZE = int(1e6)  # Replay buffer size\n",
    "    __BATCH_SIZE = 256        # Minibatch size\n",
    "    __GAMMA = 0.995           # Discount factor\n",
    "    __TAU = 0.01              # For soft update of target parameters\n",
    "    __LR_ACTOR = 1e-3         # Actor Learning rate\n",
    "    __LR_CRITIC = 1e-3        # Critic Learning rate\n",
    "    __UPDATE_EVERY = 32       # Network update rate\n",
    "    __N_EPISODES = 160        # Number of episodes\n",
    "    __MAX_TIMESTEPS = 1000    # Max number of timesteps per episode\n",
    "    __GOAL = 35               # Goal to consider the problem solved\n",
    "    __N_EXPERIENCES = 16      # Number of experiences to learn from\n",
    "    __AVG_OVER = 100          # Number of scores to average over\n",
    "\n",
    "    def __init__(self, state_size, action_size, random_seed):\n",
    "        \"\"\"\n",
    "        Initialize a DDPG agent according to the set of states and set of actions from the environment.\n",
    "\n",
    "        Note:\n",
    "            It contains hyperparameters to tune the training stage, e.g. discount factor,\n",
    "            number of epsiodes, etc.\n",
    "\n",
    "        Args:\n",
    "            state_size (int): Dimension of each state\n",
    "            action_size (int): Dimension of each action\n",
    "            random_seed (int): Seed for random.\n",
    "\n",
    "        Example:\n",
    "            >>> dqn = DDPG(state_size=37, action_size=4, random_seed=89)\n",
    "        \"\"\"\n",
    "\n",
    "        self.state_size = state_size\n",
    "        self.action_size = action_size\n",
    "        random.seed(random_seed)\n",
    "\n",
    "        self.actor_regular = Actor(state_size, action_size, random_seed).to(device)\n",
    "        self.actor_target = Actor(state_size, action_size, random_seed).to(device)\n",
    "        self.actor_optimizer = optim.Adam(self.actor_regular.parameters(), lr=DDPG.__LR_ACTOR)\n",
    "\n",
    "        self.critic_regular = Critic(state_size, action_size, random_seed).to(device)\n",
    "        self.critic_target = Critic(state_size, action_size, random_seed).to(device)\n",
    "        self.critic_optimizer = optim.Adam(self.critic_regular.parameters(), lr=DDPG.__LR_CRITIC)\n",
    "\n",
    "        self.memory = ReplayBuffer(action_size, DDPG.__BUFFER_SIZE, DDPG.__BATCH_SIZE, random_seed)\n",
    "\n",
    "        # Make a deep copy of the weights for each target and regular network\n",
    "        self.deep_copy(self.actor_target, self.actor_regular)\n",
    "        self.deep_copy(self.critic_target, self.critic_regular)\n",
    "\n",
    "    def train(self, env, brain_name):\n",
    "        \"\"\"\n",
    "        Train the agent based on the environment and brain.\n",
    "\n",
    "        Args:\n",
    "            env (UnityEnvironment): Environment to train with.\n",
    "            brain_name (str): Name of the brain.\n",
    "\n",
    "        Example:\n",
    "            >>> ddpg = DDPG(37, 4, random_seed=89)\n",
    "            >>> ddpg.train(UnityEnvironment(file_name='/path/to/Environment.app'), 'EnvironmentBrain')\n",
    "        \"\"\"\n",
    "        scores_deque = deque(maxlen=DDPG.__AVG_OVER)\n",
    "        global_scores = []\n",
    "        averaged_scores = []\n",
    "\n",
    "        avg_score = None\n",
    "\n",
    "        for i_episode in range(1, DDPG.__N_EPISODES+1):\n",
    "            env_info = env.reset(train_mode=True)[brain_name]\n",
    "            states = env_info.vector_observations\n",
    "            scores = np.zeros(len(env_info.agents))\n",
    "\n",
    "            for t in range(DDPG.__MAX_TIMESTEPS):\n",
    "                actions = self.act(states)\n",
    "                env_info = env.step(actions)[brain_name]\n",
    "                next_states = env_info.vector_observations\n",
    "                rewards = env_info.rewards\n",
    "                dones = env_info.local_done\n",
    "                self.step(states, actions, rewards, next_states, dones, t)\n",
    "                states = next_states\n",
    "                scores += rewards\n",
    "\n",
    "                if np.any(dones):\n",
    "                    break\n",
    "\n",
    "            score = np.mean(scores)\n",
    "            scores_deque.append(score)\n",
    "            avg_score = np.mean(scores_deque)\n",
    "\n",
    "            global_scores.append(score)\n",
    "            averaged_scores.append(avg_score)\n",
    "\n",
    "            print(f'\\rEpisode {i_episode}\\tAverage Score: {avg_score:.2f}', end=\"\")\n",
    "\n",
    "            if i_episode % 10 == 0:\n",
    "                print(f'\\rEpisode {i_episode}\\tAverage Score: {avg_score:.2f}')\n",
    "\n",
    "            if avg_score >= DDPG.__GOAL:\n",
    "                print(f'\\nEnvironment solved in {i_episode:d} episodes!\\tAverage Score: {avg_score:.2f}')\n",
    "                torch.save(self.actor_regular.state_dict(), 'actor_weights.pth')\n",
    "                torch.save(self.critic_regular.state_dict(), 'critic_weights.pth')\n",
    "                break\n",
    "\n",
    "        return global_scores, avg_score\n",
    "\n",
    "    def test(self, env, brain_name):\n",
    "        \"\"\"\n",
    "        Test the agent based on the environment and brain.\n",
    "\n",
    "        Args:\n",
    "            env (UnityEnvironment): Environment to train with.\n",
    "            brain_name (str): Name of the brain.\n",
    "\n",
    "        Example:\n",
    "            >>> dqn = DDPG(37, 4)\n",
    "            >>> dqn.test(UnityEnvironment(file_name='/path/to/Environment.app'), 'EnvironmentBrain')\n",
    "        \"\"\"\n",
    "\n",
    "        self.critic_regular.load_state_dict(torch.load('critic_weights.pth'))\n",
    "        self.actor_regular.load_state_dict(torch.load('actor_weights.pth'))\n",
    "\n",
    "        env_info = env.reset(train_mode=False)[brain_name]\n",
    "        states = env_info.vector_observations\n",
    "\n",
    "        while True:\n",
    "            actions = self.act(states)\n",
    "            env_info = env.step(actions)[brain_name]\n",
    "            next_states = env_info.vector_observations\n",
    "            dones = env_info.local_done\n",
    "            states = next_states\n",
    "\n",
    "            if np.any(dones):\n",
    "                break\n",
    "\n",
    "    def step(self, states, actions, rewards, next_states, dones, timestep):\n",
    "        \"\"\"\n",
    "        Perform a step in the training process.\n",
    "\n",
    "        Note:\n",
    "            Firstly, saves the state in the replay experience buffer (state, action, reward, next_state, done).\n",
    "            If there are enough numbers of samples in the memory, just sample one of them randomly, and help\n",
    "            the learning process with it.\n",
    "\n",
    "        Args:\n",
    "            states (numpy.array): The current state from which an action has been selected.\n",
    "            actions (numpy.array): The action selected based on the current state.\n",
    "            rewards (float): The reward obtained after applying the action.\n",
    "            next_states (numpy.array): The next state to which the environment will transition after applying the action.\n",
    "            dones (numpy.array): An array of bool flags indicating agents are done.\n",
    "        \"\"\"\n",
    "        for state, action, reward, next_state, done in zip(states, actions, rewards, next_states, dones):\n",
    "            self.memory.add(state, action, reward, next_state, done)\n",
    "\n",
    "        if len(self.memory) > DDPG.__BATCH_SIZE and timestep % DDPG.__UPDATE_EVERY == 0:\n",
    "            for _ in range(DDPG.__N_EXPERIENCES):\n",
    "                experiences = self.memory.sample()\n",
    "                self.learn(experiences, DDPG.__GAMMA)\n",
    "\n",
    "    def act(self, state):\n",
    "        \"\"\"\n",
    "        Returns actions for given state as per current policy.\n",
    "\n",
    "        Args:\n",
    "            state (numpy.array): current state\n",
    "        \"\"\"\n",
    "        states = torch.from_numpy(state).float().to(device)\n",
    "        self.actor_regular.eval()\n",
    "\n",
    "        with torch.no_grad():\n",
    "            actions = self.actor_regular(states).cpu().data.numpy()\n",
    "\n",
    "        self.actor_regular.train()\n",
    "        return actions\n",
    "\n",
    "    def learn(self, experiences, gamma):\n",
    "        \"\"\"\n",
    "        Update value parameters using given batch of experience tuples.\n",
    "\n",
    "        Args:\n",
    "            experiences (Tuple[torch.Variable]): Tuple of (state, action, reward, next_state, done) tuples\n",
    "            gamma (float): Discount factor.\n",
    "        \"\"\"\n",
    "        states, actions, rewards, next_states, dones = experiences\n",
    "\n",
    "        # Update the critic neural network\n",
    "        # Get predicted next-state actions\n",
    "        actions_next = self.actor_target(next_states)\n",
    "        # Get Q values from target model\n",
    "        Q_targets_next = self.critic_target(next_states, actions_next)\n",
    "\n",
    "        # Compute Q targets for current states\n",
    "        Q_targets = rewards + (gamma * Q_targets_next * (1 - dones))\n",
    "\n",
    "        # Calculate the critic loss\n",
    "        Q_expected = self.critic_regular(states, actions)\n",
    "\n",
    "        loss = torch.nn.MSELoss()\n",
    "        critic_loss = loss(Q_expected, Q_targets.detach())\n",
    "\n",
    "        # Minimize the loss\n",
    "        self.critic_optimizer.zero_grad()\n",
    "        critic_loss.backward()\n",
    "        self.critic_optimizer.step()\n",
    "\n",
    "        # Update the actor neural network\n",
    "        # Calculate the actor loss\n",
    "        actions_pred = self.actor_regular(states)\n",
    "        # Change sign because of the gradient descent\n",
    "        actor_loss = -self.critic_regular(states, actions_pred).mean()\n",
    "\n",
    "        # Minimize the loss function\n",
    "        self.actor_optimizer.zero_grad()\n",
    "        actor_loss.backward()\n",
    "        self.actor_optimizer.step()\n",
    "\n",
    "        # Update target network using the soft update approach (slowly updating)\n",
    "        self.soft_update(self.critic_regular, self.critic_target, DDPG.__TAU)\n",
    "        self.soft_update(self.actor_regular, self.actor_target, DDPG.__TAU)\n",
    "\n",
    "    def soft_update(self, local_model, target_model, tau):\n",
    "        \"\"\"\n",
    "        Soft update model weights.\n",
    "\n",
    "        Note:\n",
    "            θ_target = τ * θ_local + (1 - τ) * θ_target\n",
    "\n",
    "        Args:\n",
    "            local_model (nn.Model): Model to copy the weights from.\n",
    "            target_model (nn.Model): Model to copy the weights to.\n",
    "            tau (float): Interpolation parameter\n",
    "        \"\"\"\n",
    "        for target_param, local_param in zip(target_model.parameters(), local_model.parameters()):\n",
    "            target_param.data.copy_(tau*local_param.data + (1.0-tau) * target_param.data)\n",
    "\n",
    "    def deep_copy(self, target, source):\n",
    "        \"\"\"\n",
    "        Make a deep copy of weights\n",
    "\n",
    "        Args:\n",
    "            target (nn.Model): Target model.\n",
    "            source (nn.Model): Source model.\n",
    "        \"\"\"\n",
    "        for target_param, param in zip(target.parameters(), source.parameters()):\n",
    "            target_param.data.copy_(param.data)"
   ],
   "metadata": {
    "collapsed": false,
    "pycharm": {
     "name": "#%%\n"
    }
   }
  },
  {
   "cell_type": "code",
   "execution_count": 10,
   "outputs": [],
   "source": [
    "class Training:\n",
    "    def start(env):\n",
    "        \"\"\"\n",
    "        Start training.\n",
    "\n",
    "        Note:\n",
    "            Train mode should be enabled.\n",
    "\n",
    "        Args:\n",
    "            env (UnityEnvironment): Environment to train with.\n",
    "        \"\"\"\n",
    "        env_info = env.reset(train_mode=True)[brain_name]\n",
    "\n",
    "        action_size = brain.vector_action_space_size\n",
    "\n",
    "        state_size = len(env_info.vector_observations[0])\n",
    "\n",
    "        agent = DDPG(state_size, action_size, random_seed=89)\n",
    "        scores, avg_score = agent.train(env, brain_name)\n",
    "\n",
    "        fig = plt.figure()\n",
    "        ax = fig.add_subplot(111)\n",
    "        plt.plot(np.arange(len(scores)), scores)\n",
    "        plt.plot(np.arange(len(scores)), [avg_score] * len(scores))\n",
    "        plt.ylabel('Score')\n",
    "        plt.xlabel('Episode #')\n",
    "        ax.legend(['Score', 'Average Score'])\n",
    "        plt.show()"
   ],
   "metadata": {
    "collapsed": false,
    "pycharm": {
     "name": "#%%\n"
    }
   }
  },
  {
   "cell_type": "code",
   "execution_count": 11,
   "outputs": [
    {
     "name": "stdout",
     "output_type": "stream",
     "text": [
      "Episode 10\tAverage Score: 2.31\n",
      "Episode 20\tAverage Score: 13.80\n",
      "Episode 30\tAverage Score: 19.94\n",
      "Episode 40\tAverage Score: 23.80\n",
      "Episode 50\tAverage Score: 26.47\n",
      "Episode 60\tAverage Score: 28.50\n",
      "Episode 70\tAverage Score: 29.89\n",
      "Episode 80\tAverage Score: 30.94\n",
      "Episode 90\tAverage Score: 31.60\n",
      "Episode 100\tAverage Score: 32.08\n",
      "Episode 109\tAverage Score: 35.21\n",
      "Environment solved in 109 episodes!\tAverage Score: 35.21\n"
     ]
    },
    {
     "data": {
      "text/plain": "<Figure size 432x288 with 1 Axes>",
      "image/png": "[encoded data removed]"
     },
     "metadata": {
      "needs_background": "light"
     },
     "output_type": "display_data"
    }
   ],
   "source": [
    "Training.start(env)"
   ],
   "metadata": {
    "collapsed": false,
    "pycharm": {
     "name": "#%%\n"
    }
   }
  },
  {
   "cell_type": "code",
   "execution_count": 12,
   "outputs": [],
   "source": [
    "class Evaluation:\n",
    "    def start(env):\n",
    "        \"\"\"\n",
    "        Start evaluating.\n",
    "\n",
    "        Note:\n",
    "            Train mode should be disabled.\n",
    "\n",
    "        Args:\n",
    "            env (UnityEnvironment): Environment to train with.\n",
    "        \"\"\"\n",
    "        env_info = env.reset(train_mode=False)[brain_name]\n",
    "        action_size = brain.vector_action_space_size\n",
    "        state_size = len(env_info.vector_observations[0])\n",
    "\n",
    "        agent = DDPG(state_size, action_size, random_seed=89)\n",
    "        agent.test(env, brain_name)"
   ],
   "metadata": {
    "collapsed": false,
    "pycharm": {
     "name": "#%%\n"
    }
   }
  },
  {
   "cell_type": "code",
   "execution_count": 14,
   "outputs": [],
   "source": [
    "Evaluation.start(env)"
   ],
   "metadata": {
    "collapsed": false,
    "pycharm": {
     "name": "#%%\n"
    }
   }
  }
 ],
 "metadata": {
  "kernelspec": {
   "name": "drlnd",
   "language": "python",
   "display_name": "drlnd"
  },
  "language_info": {
   "codemirror_mode": {
    "name": "ipython",
    "version": 3
   },
   "file_extension": ".py",
   "mimetype": "text/x-python",
   "name": "python",
   "nbconvert_exporter": "python",
   "pygments_lexer": "ipython3",
   "version": "3.6.4"
  }
 },
 "nbformat": 4,
 "nbformat_minor": 2
}